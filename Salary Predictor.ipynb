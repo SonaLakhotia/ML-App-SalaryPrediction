{
 "cells": [
  {
   "cell_type": "code",
   "execution_count": 342,
   "id": "b0c6353a",
   "metadata": {},
   "outputs": [],
   "source": [
    "# Importing necessary libraries\n",
    "import pandas as pd\n",
    "import matplotlib.pyplot as plt\n",
    "\n",
    "# Creating a dataframe from the dataset\n",
    "df  = pd.read_csv('survey_results_public.csv')"
   ]
  },
  {
   "cell_type": "code",
   "execution_count": 343,
   "id": "e674656d",
   "metadata": {},
   "outputs": [
    {
     "data": {
      "text/html": [
       "<div>\n",
       "<style scoped>\n",
       "    .dataframe tbody tr th:only-of-type {\n",
       "        vertical-align: middle;\n",
       "    }\n",
       "\n",
       "    .dataframe tbody tr th {\n",
       "        vertical-align: top;\n",
       "    }\n",
       "\n",
       "    .dataframe thead th {\n",
       "        text-align: right;\n",
       "    }\n",
       "</style>\n",
       "<table border=\"1\" class=\"dataframe\">\n",
       "  <thead>\n",
       "    <tr style=\"text-align: right;\">\n",
       "      <th></th>\n",
       "      <th>EdLevel</th>\n",
       "      <th>Employment</th>\n",
       "      <th>RemoteWork</th>\n",
       "      <th>YearsCode</th>\n",
       "      <th>DevType</th>\n",
       "      <th>Country</th>\n",
       "      <th>CompTotal</th>\n",
       "      <th>AISent</th>\n",
       "      <th>WorkExp</th>\n",
       "    </tr>\n",
       "  </thead>\n",
       "  <tbody>\n",
       "    <tr>\n",
       "      <th>0</th>\n",
       "      <td>NaN</td>\n",
       "      <td>NaN</td>\n",
       "      <td>NaN</td>\n",
       "      <td>NaN</td>\n",
       "      <td>NaN</td>\n",
       "      <td>NaN</td>\n",
       "      <td>NaN</td>\n",
       "      <td>NaN</td>\n",
       "      <td>NaN</td>\n",
       "    </tr>\n",
       "    <tr>\n",
       "      <th>1</th>\n",
       "      <td>Bachelor’s degree (B.A., B.S., B.Eng., etc.)</td>\n",
       "      <td>Employed, full-time</td>\n",
       "      <td>Remote</td>\n",
       "      <td>18</td>\n",
       "      <td>Senior Executive (C-Suite, VP, etc.)</td>\n",
       "      <td>United States of America</td>\n",
       "      <td>285000.0</td>\n",
       "      <td>Indifferent</td>\n",
       "      <td>10.0</td>\n",
       "    </tr>\n",
       "    <tr>\n",
       "      <th>2</th>\n",
       "      <td>Bachelor’s degree (B.A., B.S., B.Eng., etc.)</td>\n",
       "      <td>Employed, full-time</td>\n",
       "      <td>Hybrid (some remote, some in-person)</td>\n",
       "      <td>27</td>\n",
       "      <td>Developer, back-end</td>\n",
       "      <td>United States of America</td>\n",
       "      <td>250000.0</td>\n",
       "      <td>NaN</td>\n",
       "      <td>23.0</td>\n",
       "    </tr>\n",
       "    <tr>\n",
       "      <th>3</th>\n",
       "      <td>Bachelor’s degree (B.A., B.S., B.Eng., etc.)</td>\n",
       "      <td>Employed, full-time</td>\n",
       "      <td>Hybrid (some remote, some in-person)</td>\n",
       "      <td>12</td>\n",
       "      <td>Developer, front-end</td>\n",
       "      <td>United States of America</td>\n",
       "      <td>156000.0</td>\n",
       "      <td>NaN</td>\n",
       "      <td>7.0</td>\n",
       "    </tr>\n",
       "    <tr>\n",
       "      <th>4</th>\n",
       "      <td>Bachelor’s degree (B.A., B.S., B.Eng., etc.)</td>\n",
       "      <td>Employed, full-time;Independent contractor, fr...</td>\n",
       "      <td>Remote</td>\n",
       "      <td>6</td>\n",
       "      <td>Developer, full-stack</td>\n",
       "      <td>Philippines</td>\n",
       "      <td>1320000.0</td>\n",
       "      <td>Very favorable</td>\n",
       "      <td>6.0</td>\n",
       "    </tr>\n",
       "  </tbody>\n",
       "</table>\n",
       "</div>"
      ],
      "text/plain": [
       "                                        EdLevel  \\\n",
       "0                                           NaN   \n",
       "1  Bachelor’s degree (B.A., B.S., B.Eng., etc.)   \n",
       "2  Bachelor’s degree (B.A., B.S., B.Eng., etc.)   \n",
       "3  Bachelor’s degree (B.A., B.S., B.Eng., etc.)   \n",
       "4  Bachelor’s degree (B.A., B.S., B.Eng., etc.)   \n",
       "\n",
       "                                          Employment  \\\n",
       "0                                                NaN   \n",
       "1                                Employed, full-time   \n",
       "2                                Employed, full-time   \n",
       "3                                Employed, full-time   \n",
       "4  Employed, full-time;Independent contractor, fr...   \n",
       "\n",
       "                             RemoteWork YearsCode  \\\n",
       "0                                   NaN       NaN   \n",
       "1                                Remote        18   \n",
       "2  Hybrid (some remote, some in-person)        27   \n",
       "3  Hybrid (some remote, some in-person)        12   \n",
       "4                                Remote         6   \n",
       "\n",
       "                                DevType                   Country  CompTotal  \\\n",
       "0                                   NaN                       NaN        NaN   \n",
       "1  Senior Executive (C-Suite, VP, etc.)  United States of America   285000.0   \n",
       "2                   Developer, back-end  United States of America   250000.0   \n",
       "3                  Developer, front-end  United States of America   156000.0   \n",
       "4                 Developer, full-stack               Philippines  1320000.0   \n",
       "\n",
       "           AISent  WorkExp  \n",
       "0             NaN      NaN  \n",
       "1     Indifferent     10.0  \n",
       "2             NaN     23.0  \n",
       "3             NaN      7.0  \n",
       "4  Very favorable      6.0  "
      ]
     },
     "execution_count": 343,
     "metadata": {},
     "output_type": "execute_result"
    }
   ],
   "source": [
    "# Creating a dataframe for specific use case, choosing all applicable columns\n",
    "\n",
    "df = df[['EdLevel', 'Employment', 'RemoteWork','YearsCode','DevType','Country','CompTotal','AISent','WorkExp']]\n",
    "df.head()"
   ]
  },
  {
   "cell_type": "code",
   "execution_count": 344,
   "id": "5e3db7fa",
   "metadata": {},
   "outputs": [
    {
     "data": {
      "text/html": [
       "<div>\n",
       "<style scoped>\n",
       "    .dataframe tbody tr th:only-of-type {\n",
       "        vertical-align: middle;\n",
       "    }\n",
       "\n",
       "    .dataframe tbody tr th {\n",
       "        vertical-align: top;\n",
       "    }\n",
       "\n",
       "    .dataframe thead th {\n",
       "        text-align: right;\n",
       "    }\n",
       "</style>\n",
       "<table border=\"1\" class=\"dataframe\">\n",
       "  <thead>\n",
       "    <tr style=\"text-align: right;\">\n",
       "      <th></th>\n",
       "      <th>EdLevel</th>\n",
       "      <th>Employment</th>\n",
       "      <th>RemoteWork</th>\n",
       "      <th>YearsCode</th>\n",
       "      <th>DevType</th>\n",
       "      <th>Country</th>\n",
       "      <th>CompTotal</th>\n",
       "      <th>AISent</th>\n",
       "      <th>WorkExp</th>\n",
       "    </tr>\n",
       "  </thead>\n",
       "  <tbody>\n",
       "    <tr>\n",
       "      <th>1</th>\n",
       "      <td>Bachelor’s degree (B.A., B.S., B.Eng., etc.)</td>\n",
       "      <td>Employed, full-time</td>\n",
       "      <td>Remote</td>\n",
       "      <td>18</td>\n",
       "      <td>Senior Executive (C-Suite, VP, etc.)</td>\n",
       "      <td>United States of America</td>\n",
       "      <td>285000.0</td>\n",
       "      <td>Indifferent</td>\n",
       "      <td>10.0</td>\n",
       "    </tr>\n",
       "    <tr>\n",
       "      <th>2</th>\n",
       "      <td>Bachelor’s degree (B.A., B.S., B.Eng., etc.)</td>\n",
       "      <td>Employed, full-time</td>\n",
       "      <td>Hybrid (some remote, some in-person)</td>\n",
       "      <td>27</td>\n",
       "      <td>Developer, back-end</td>\n",
       "      <td>United States of America</td>\n",
       "      <td>250000.0</td>\n",
       "      <td>NaN</td>\n",
       "      <td>23.0</td>\n",
       "    </tr>\n",
       "    <tr>\n",
       "      <th>3</th>\n",
       "      <td>Bachelor’s degree (B.A., B.S., B.Eng., etc.)</td>\n",
       "      <td>Employed, full-time</td>\n",
       "      <td>Hybrid (some remote, some in-person)</td>\n",
       "      <td>12</td>\n",
       "      <td>Developer, front-end</td>\n",
       "      <td>United States of America</td>\n",
       "      <td>156000.0</td>\n",
       "      <td>NaN</td>\n",
       "      <td>7.0</td>\n",
       "    </tr>\n",
       "    <tr>\n",
       "      <th>4</th>\n",
       "      <td>Bachelor’s degree (B.A., B.S., B.Eng., etc.)</td>\n",
       "      <td>Employed, full-time;Independent contractor, fr...</td>\n",
       "      <td>Remote</td>\n",
       "      <td>6</td>\n",
       "      <td>Developer, full-stack</td>\n",
       "      <td>Philippines</td>\n",
       "      <td>1320000.0</td>\n",
       "      <td>Very favorable</td>\n",
       "      <td>6.0</td>\n",
       "    </tr>\n",
       "    <tr>\n",
       "      <th>5</th>\n",
       "      <td>Some college/university study without earning ...</td>\n",
       "      <td>Employed, full-time</td>\n",
       "      <td>Remote</td>\n",
       "      <td>21</td>\n",
       "      <td>Developer, back-end</td>\n",
       "      <td>United Kingdom of Great Britain and Northern I...</td>\n",
       "      <td>78000.0</td>\n",
       "      <td>Favorable</td>\n",
       "      <td>22.0</td>\n",
       "    </tr>\n",
       "  </tbody>\n",
       "</table>\n",
       "</div>"
      ],
      "text/plain": [
       "                                             EdLevel  \\\n",
       "1       Bachelor’s degree (B.A., B.S., B.Eng., etc.)   \n",
       "2       Bachelor’s degree (B.A., B.S., B.Eng., etc.)   \n",
       "3       Bachelor’s degree (B.A., B.S., B.Eng., etc.)   \n",
       "4       Bachelor’s degree (B.A., B.S., B.Eng., etc.)   \n",
       "5  Some college/university study without earning ...   \n",
       "\n",
       "                                          Employment  \\\n",
       "1                                Employed, full-time   \n",
       "2                                Employed, full-time   \n",
       "3                                Employed, full-time   \n",
       "4  Employed, full-time;Independent contractor, fr...   \n",
       "5                                Employed, full-time   \n",
       "\n",
       "                             RemoteWork YearsCode  \\\n",
       "1                                Remote        18   \n",
       "2  Hybrid (some remote, some in-person)        27   \n",
       "3  Hybrid (some remote, some in-person)        12   \n",
       "4                                Remote         6   \n",
       "5                                Remote        21   \n",
       "\n",
       "                                DevType  \\\n",
       "1  Senior Executive (C-Suite, VP, etc.)   \n",
       "2                   Developer, back-end   \n",
       "3                  Developer, front-end   \n",
       "4                 Developer, full-stack   \n",
       "5                   Developer, back-end   \n",
       "\n",
       "                                             Country  CompTotal  \\\n",
       "1                           United States of America   285000.0   \n",
       "2                           United States of America   250000.0   \n",
       "3                           United States of America   156000.0   \n",
       "4                                        Philippines  1320000.0   \n",
       "5  United Kingdom of Great Britain and Northern I...    78000.0   \n",
       "\n",
       "           AISent  WorkExp  \n",
       "1     Indifferent     10.0  \n",
       "2             NaN     23.0  \n",
       "3             NaN      7.0  \n",
       "4  Very favorable      6.0  \n",
       "5       Favorable     22.0  "
      ]
     },
     "execution_count": 344,
     "metadata": {},
     "output_type": "execute_result"
    }
   ],
   "source": [
    "# Remvoing the values where the salary is NAN\n",
    "df = df[df.CompTotal.notnull()]\n",
    "df.head()"
   ]
  },
  {
   "cell_type": "code",
   "execution_count": 345,
   "id": "559cdd34",
   "metadata": {},
   "outputs": [
    {
     "name": "stdout",
     "output_type": "stream",
     "text": [
      "<class 'pandas.core.frame.DataFrame'>\n",
      "Int64Index: 48225 entries, 1 to 89183\n",
      "Data columns (total 9 columns):\n",
      " #   Column      Non-Null Count  Dtype  \n",
      "---  ------      --------------  -----  \n",
      " 0   EdLevel     48225 non-null  object \n",
      " 1   Employment  48213 non-null  object \n",
      " 2   RemoteWork  48126 non-null  object \n",
      " 3   YearsCode   48155 non-null  object \n",
      " 4   DevType     48089 non-null  object \n",
      " 5   Country     48225 non-null  object \n",
      " 6   CompTotal   48225 non-null  float64\n",
      " 7   AISent      33260 non-null  object \n",
      " 8   WorkExp     32723 non-null  float64\n",
      "dtypes: float64(2), object(7)\n",
      "memory usage: 3.7+ MB\n"
     ]
    }
   ],
   "source": [
    "# Getting an information about the dataframe\n",
    "df.info()"
   ]
  },
  {
   "cell_type": "code",
   "execution_count": 346,
   "id": "4112d4a3",
   "metadata": {},
   "outputs": [
    {
     "data": {
      "text/plain": [
       "EdLevel       0\n",
       "Employment    0\n",
       "RemoteWork    0\n",
       "YearsCode     0\n",
       "DevType       0\n",
       "Country       0\n",
       "CompTotal     0\n",
       "AISent        0\n",
       "WorkExp       0\n",
       "dtype: int64"
      ]
     },
     "execution_count": 346,
     "metadata": {},
     "output_type": "execute_result"
    }
   ],
   "source": [
    "# Dropping further rows where the value is NAN, since we have sufficient data points, this step can be performed\n",
    "df = df.dropna()\n",
    "df.isnull().sum()"
   ]
  },
  {
   "cell_type": "code",
   "execution_count": 347,
   "id": "e426f7bf",
   "metadata": {},
   "outputs": [],
   "source": [
    "# Only selecting the values where the employment value is \"full time\"\n",
    "df = df[df.Employment == 'Employed, full-time']\n",
    "df = df.drop(\"Employment\", axis=1)"
   ]
  },
  {
   "cell_type": "code",
   "execution_count": 348,
   "id": "5a09b133",
   "metadata": {},
   "outputs": [
    {
     "data": {
      "text/plain": [
       "array([4636, 1447, 1291, 1118,  863,  571,  563,  495,  446,  440,  381,\n",
       "        375,  374,  232,  215,  206,  200,  184,  183,  174,  173,  164,\n",
       "        158,  153,  149,  144,  144,  137,  134,  134,  133,  129,  115,\n",
       "        113,  113,  106,   98,   94,   93,   89,   83,   80,   80,   79,\n",
       "         73,   70,   64,   62,   61,   61,   55,   54,   53,   51,   50,\n",
       "         48,   46,   45,   40,   40,   40,   37,   35,   35,   34,   30,\n",
       "         28,   28,   23,   23,   20,   19,   18,   18,   16,   16,   15,\n",
       "         15,   15,   15,   13,   13,   13,   12,   12,   12,   12,   12,\n",
       "         11,   11,   10,   10,   10,   10,   10,    9,    9,    9,    8,\n",
       "          8,    8,    7,    7,    6,    6,    6,    5,    5,    5,    5,\n",
       "          5,    4,    4,    4,    4,    4,    3,    3,    3,    3,    3,\n",
       "          3,    3,    3,    3,    3,    3,    2,    2,    2,    2,    2,\n",
       "          2,    2,    2,    2,    2,    2,    1,    1,    1,    1,    1,\n",
       "          1,    1,    1,    1,    1,    1,    1,    1,    1,    1,    1,\n",
       "          1], dtype=int64)"
      ]
     },
     "execution_count": 348,
     "metadata": {},
     "output_type": "execute_result"
    }
   ],
   "source": [
    "# Finding the counts for each country\n",
    "df.Country.value_counts().values"
   ]
  },
  {
   "cell_type": "code",
   "execution_count": 349,
   "id": "e2da189f",
   "metadata": {},
   "outputs": [],
   "source": [
    "# We determine to drop the countries where data points is 1, or below a certain threshold\n",
    "def country_threshold(counts, th):\n",
    "    th_map = {}  \n",
    "    for i in range(len(counts)):\n",
    "        if counts.values[i] >= th:\n",
    "            th_map[counts.index[i]] = counts.index[i]\n",
    "        else:\n",
    "            th_map[counts.index[i]] = 'Other'\n",
    "    return th_map"
   ]
  },
  {
   "cell_type": "code",
   "execution_count": 350,
   "id": "8e37185b",
   "metadata": {},
   "outputs": [],
   "source": [
    "# The country map returns the new dict with relevant values as per the function\n",
    "country_map = country_threshold(df.Country.value_counts(), 95)"
   ]
  },
  {
   "cell_type": "code",
   "execution_count": 351,
   "id": "5a349763",
   "metadata": {},
   "outputs": [
    {
     "data": {
      "text/plain": [
       "Index(['United States of America', 'Other', 'Germany',\n",
       "       'United Kingdom of Great Britain and Northern Ireland', 'India',\n",
       "       'Canada', 'Brazil', 'France', 'Spain', 'Australia', 'Netherlands',\n",
       "       'Poland', 'Sweden', 'Italy', 'Israel', 'Switzerland', 'Portugal',\n",
       "       'Norway', 'Denmark', 'Turkey', 'Austria', 'Finland', 'Mexico',\n",
       "       'South Africa', 'Belgium', 'New Zealand', 'Czech Republic', 'Colombia',\n",
       "       'Pakistan', 'Greece', 'Ukraine', 'Russian Federation', 'Romania',\n",
       "       'Iran, Islamic Republic of...', 'Ireland', 'Hungary', 'Argentina',\n",
       "       'Bangladesh'],\n",
       "      dtype='object')"
      ]
     },
     "execution_count": 351,
     "metadata": {},
     "output_type": "execute_result"
    }
   ],
   "source": [
    "# The values are mapped to the country column\n",
    "df['Country'] = df.Country.map(country_map)\n",
    "df.Country.value_counts().index"
   ]
  },
  {
   "cell_type": "code",
   "execution_count": 352,
   "id": "63de3d19",
   "metadata": {},
   "outputs": [
    {
     "data": {
      "text/html": [
       "<div>\n",
       "<style scoped>\n",
       "    .dataframe tbody tr th:only-of-type {\n",
       "        vertical-align: middle;\n",
       "    }\n",
       "\n",
       "    .dataframe tbody tr th {\n",
       "        vertical-align: top;\n",
       "    }\n",
       "\n",
       "    .dataframe thead th {\n",
       "        text-align: right;\n",
       "    }\n",
       "</style>\n",
       "<table border=\"1\" class=\"dataframe\">\n",
       "  <thead>\n",
       "    <tr style=\"text-align: right;\">\n",
       "      <th></th>\n",
       "      <th>EdLevel</th>\n",
       "      <th>RemoteWork</th>\n",
       "      <th>YearsCode</th>\n",
       "      <th>DevType</th>\n",
       "      <th>Country</th>\n",
       "      <th>CompTotal</th>\n",
       "      <th>AISent</th>\n",
       "      <th>WorkExp</th>\n",
       "    </tr>\n",
       "  </thead>\n",
       "  <tbody>\n",
       "    <tr>\n",
       "      <th>1</th>\n",
       "      <td>Bachelor’s degree (B.A., B.S., B.Eng., etc.)</td>\n",
       "      <td>Remote</td>\n",
       "      <td>18</td>\n",
       "      <td>Senior Executive (C-Suite, VP, etc.)</td>\n",
       "      <td>United States of America</td>\n",
       "      <td>285000.0</td>\n",
       "      <td>Indifferent</td>\n",
       "      <td>10.0</td>\n",
       "    </tr>\n",
       "    <tr>\n",
       "      <th>5</th>\n",
       "      <td>Some college/university study without earning ...</td>\n",
       "      <td>Remote</td>\n",
       "      <td>21</td>\n",
       "      <td>Developer, back-end</td>\n",
       "      <td>United Kingdom of Great Britain and Northern I...</td>\n",
       "      <td>78000.0</td>\n",
       "      <td>Favorable</td>\n",
       "      <td>22.0</td>\n",
       "    </tr>\n",
       "    <tr>\n",
       "      <th>6</th>\n",
       "      <td>Some college/university study without earning ...</td>\n",
       "      <td>Remote</td>\n",
       "      <td>4</td>\n",
       "      <td>Developer, full-stack</td>\n",
       "      <td>United States of America</td>\n",
       "      <td>135000.0</td>\n",
       "      <td>Unfavorable</td>\n",
       "      <td>4.0</td>\n",
       "    </tr>\n",
       "    <tr>\n",
       "      <th>7</th>\n",
       "      <td>Bachelor’s degree (B.A., B.S., B.Eng., etc.)</td>\n",
       "      <td>Remote</td>\n",
       "      <td>5</td>\n",
       "      <td>Developer, full-stack</td>\n",
       "      <td>United States of America</td>\n",
       "      <td>80000.0</td>\n",
       "      <td>Favorable</td>\n",
       "      <td>5.0</td>\n",
       "    </tr>\n",
       "    <tr>\n",
       "      <th>13</th>\n",
       "      <td>Master’s degree (M.A., M.S., M.Eng., MBA, etc.)</td>\n",
       "      <td>Hybrid (some remote, some in-person)</td>\n",
       "      <td>5</td>\n",
       "      <td>Developer, QA or test</td>\n",
       "      <td>United States of America</td>\n",
       "      <td>150000.0</td>\n",
       "      <td>Favorable</td>\n",
       "      <td>10.0</td>\n",
       "    </tr>\n",
       "  </tbody>\n",
       "</table>\n",
       "</div>"
      ],
      "text/plain": [
       "                                              EdLevel  \\\n",
       "1        Bachelor’s degree (B.A., B.S., B.Eng., etc.)   \n",
       "5   Some college/university study without earning ...   \n",
       "6   Some college/university study without earning ...   \n",
       "7        Bachelor’s degree (B.A., B.S., B.Eng., etc.)   \n",
       "13    Master’s degree (M.A., M.S., M.Eng., MBA, etc.)   \n",
       "\n",
       "                              RemoteWork YearsCode  \\\n",
       "1                                 Remote        18   \n",
       "5                                 Remote        21   \n",
       "6                                 Remote         4   \n",
       "7                                 Remote         5   \n",
       "13  Hybrid (some remote, some in-person)         5   \n",
       "\n",
       "                                 DevType  \\\n",
       "1   Senior Executive (C-Suite, VP, etc.)   \n",
       "5                    Developer, back-end   \n",
       "6                  Developer, full-stack   \n",
       "7                  Developer, full-stack   \n",
       "13                 Developer, QA or test   \n",
       "\n",
       "                                              Country  CompTotal       AISent  \\\n",
       "1                            United States of America   285000.0  Indifferent   \n",
       "5   United Kingdom of Great Britain and Northern I...    78000.0    Favorable   \n",
       "6                            United States of America   135000.0  Unfavorable   \n",
       "7                            United States of America    80000.0    Favorable   \n",
       "13                           United States of America   150000.0    Favorable   \n",
       "\n",
       "    WorkExp  \n",
       "1      10.0  \n",
       "5      22.0  \n",
       "6       4.0  \n",
       "7       5.0  \n",
       "13     10.0  "
      ]
     },
     "execution_count": 352,
     "metadata": {},
     "output_type": "execute_result"
    }
   ],
   "source": [
    "# Salary expectation is that employed and full-time should be greater than 10,000\n",
    "df = df[df['CompTotal'] >= 10000]\n",
    "df.head()"
   ]
  },
  {
   "cell_type": "code",
   "execution_count": 353,
   "id": "680e286a",
   "metadata": {},
   "outputs": [],
   "source": [
    "# Performing cleaning for the years of experience, educational level\n",
    "def exp_clean(x):\n",
    "    if x == 'More than 50 years':\n",
    "        return 50\n",
    "    if x == 'Less than 1 year':\n",
    "        return 0.5\n",
    "    return float(x)\n",
    "\n",
    "df['YearsCode'] = df['YearsCode'].apply(exp_clean)"
   ]
  },
  {
   "cell_type": "code",
   "execution_count": 354,
   "id": "7d326c47",
   "metadata": {},
   "outputs": [],
   "source": [
    "df['EdLevel'].unique()\n",
    "\n",
    "def clean_ed(x):\n",
    "    if 'Bachelor’s degree' in x:\n",
    "        return 'Bachelor’s degree'\n",
    "    if 'Master’s degree' in x:\n",
    "        return 'Master’s degree'\n",
    "    if 'Professional degree' or 'Associate degree':\n",
    "        return 'Post grad'\n",
    "    return 'Less than Bachelors'\n",
    "\n",
    "df['EdLevel'] = df['EdLevel'].apply(clean_ed)"
   ]
  },
  {
   "cell_type": "code",
   "execution_count": null,
   "id": "08e58c21",
   "metadata": {},
   "outputs": [],
   "source": [
    "df = df[]"
   ]
  },
  {
   "cell_type": "code",
   "execution_count": 360,
   "id": "766d98e8",
   "metadata": {},
   "outputs": [],
   "source": [
    "from sklearn.preprocessing import LabelEncoder\n",
    "l_edlevel = LabelEncoder()\n",
    "l_remote = LabelEncoder()\n",
    "l_years = LabelEncoder()\n",
    "l_DevType = LabelEncoder()\n",
    "l_Country  = LabelEncoder()\n",
    "l_AISent = LabelEncoder()\n",
    "\n",
    "df['EdLevel'] = l_edlevel.fit_transform(df['EdLevel'])\n",
    "df['RemoteWork'] = l_remote.fit_transform(df['RemoteWork'])\n",
    "df['YearsCode'] = l_years.fit_transform(df['YearsCode'])\n",
    "df['DevType'] = l_DevType.fit_transform(df['DevType'])\n",
    "df['Country'] = l_Country.fit_transform(df['Country'])\n",
    "df['AISent'] = l_AISent.fit_transform(df['AISent'])"
   ]
  },
  {
   "cell_type": "code",
   "execution_count": 361,
   "id": "9701b2ed",
   "metadata": {},
   "outputs": [],
   "source": [
    "# Preparing the training and testing datasets\n",
    "X = df.drop(\"CompTotal\", axis=1)\n",
    "y = df['CompTotal']"
   ]
  },
  {
   "cell_type": "code",
   "execution_count": 362,
   "id": "fa4be296",
   "metadata": {},
   "outputs": [
    {
     "data": {
      "text/html": [
       "<div>\n",
       "<style scoped>\n",
       "    .dataframe tbody tr th:only-of-type {\n",
       "        vertical-align: middle;\n",
       "    }\n",
       "\n",
       "    .dataframe tbody tr th {\n",
       "        vertical-align: top;\n",
       "    }\n",
       "\n",
       "    .dataframe thead th {\n",
       "        text-align: right;\n",
       "    }\n",
       "</style>\n",
       "<table border=\"1\" class=\"dataframe\">\n",
       "  <thead>\n",
       "    <tr style=\"text-align: right;\">\n",
       "      <th></th>\n",
       "      <th>EdLevel</th>\n",
       "      <th>RemoteWork</th>\n",
       "      <th>YearsCode</th>\n",
       "      <th>DevType</th>\n",
       "      <th>Country</th>\n",
       "      <th>AISent</th>\n",
       "      <th>WorkExp</th>\n",
       "    </tr>\n",
       "  </thead>\n",
       "  <tbody>\n",
       "    <tr>\n",
       "      <th>1</th>\n",
       "      <td>0</td>\n",
       "      <td>2</td>\n",
       "      <td>18</td>\n",
       "      <td>30</td>\n",
       "      <td>37</td>\n",
       "      <td>1</td>\n",
       "      <td>10.0</td>\n",
       "    </tr>\n",
       "    <tr>\n",
       "      <th>5</th>\n",
       "      <td>2</td>\n",
       "      <td>2</td>\n",
       "      <td>21</td>\n",
       "      <td>11</td>\n",
       "      <td>36</td>\n",
       "      <td>0</td>\n",
       "      <td>22.0</td>\n",
       "    </tr>\n",
       "    <tr>\n",
       "      <th>6</th>\n",
       "      <td>2</td>\n",
       "      <td>2</td>\n",
       "      <td>4</td>\n",
       "      <td>15</td>\n",
       "      <td>37</td>\n",
       "      <td>2</td>\n",
       "      <td>4.0</td>\n",
       "    </tr>\n",
       "    <tr>\n",
       "      <th>7</th>\n",
       "      <td>0</td>\n",
       "      <td>2</td>\n",
       "      <td>5</td>\n",
       "      <td>15</td>\n",
       "      <td>37</td>\n",
       "      <td>0</td>\n",
       "      <td>5.0</td>\n",
       "    </tr>\n",
       "    <tr>\n",
       "      <th>13</th>\n",
       "      <td>1</td>\n",
       "      <td>0</td>\n",
       "      <td>5</td>\n",
       "      <td>10</td>\n",
       "      <td>37</td>\n",
       "      <td>0</td>\n",
       "      <td>10.0</td>\n",
       "    </tr>\n",
       "    <tr>\n",
       "      <th>...</th>\n",
       "      <td>...</td>\n",
       "      <td>...</td>\n",
       "      <td>...</td>\n",
       "      <td>...</td>\n",
       "      <td>...</td>\n",
       "      <td>...</td>\n",
       "      <td>...</td>\n",
       "    </tr>\n",
       "    <tr>\n",
       "      <th>89174</th>\n",
       "      <td>0</td>\n",
       "      <td>1</td>\n",
       "      <td>5</td>\n",
       "      <td>15</td>\n",
       "      <td>25</td>\n",
       "      <td>1</td>\n",
       "      <td>2.0</td>\n",
       "    </tr>\n",
       "    <tr>\n",
       "      <th>89175</th>\n",
       "      <td>0</td>\n",
       "      <td>2</td>\n",
       "      <td>10</td>\n",
       "      <td>17</td>\n",
       "      <td>37</td>\n",
       "      <td>0</td>\n",
       "      <td>8.0</td>\n",
       "    </tr>\n",
       "    <tr>\n",
       "      <th>89177</th>\n",
       "      <td>1</td>\n",
       "      <td>2</td>\n",
       "      <td>17</td>\n",
       "      <td>15</td>\n",
       "      <td>20</td>\n",
       "      <td>1</td>\n",
       "      <td>12.0</td>\n",
       "    </tr>\n",
       "    <tr>\n",
       "      <th>89178</th>\n",
       "      <td>0</td>\n",
       "      <td>2</td>\n",
       "      <td>25</td>\n",
       "      <td>15</td>\n",
       "      <td>37</td>\n",
       "      <td>0</td>\n",
       "      <td>22.0</td>\n",
       "    </tr>\n",
       "    <tr>\n",
       "      <th>89183</th>\n",
       "      <td>0</td>\n",
       "      <td>0</td>\n",
       "      <td>17</td>\n",
       "      <td>15</td>\n",
       "      <td>16</td>\n",
       "      <td>0</td>\n",
       "      <td>14.0</td>\n",
       "    </tr>\n",
       "  </tbody>\n",
       "</table>\n",
       "<p>18702 rows × 7 columns</p>\n",
       "</div>"
      ],
      "text/plain": [
       "       EdLevel  RemoteWork  YearsCode  DevType  Country  AISent  WorkExp\n",
       "1            0           2         18       30       37       1     10.0\n",
       "5            2           2         21       11       36       0     22.0\n",
       "6            2           2          4       15       37       2      4.0\n",
       "7            0           2          5       15       37       0      5.0\n",
       "13           1           0          5       10       37       0     10.0\n",
       "...        ...         ...        ...      ...      ...     ...      ...\n",
       "89174        0           1          5       15       25       1      2.0\n",
       "89175        0           2         10       17       37       0      8.0\n",
       "89177        1           2         17       15       20       1     12.0\n",
       "89178        0           2         25       15       37       0     22.0\n",
       "89183        0           0         17       15       16       0     14.0\n",
       "\n",
       "[18702 rows x 7 columns]"
      ]
     },
     "execution_count": 362,
     "metadata": {},
     "output_type": "execute_result"
    }
   ],
   "source": [
    "X"
   ]
  },
  {
   "cell_type": "code",
   "execution_count": 363,
   "id": "b14ca320",
   "metadata": {},
   "outputs": [],
   "source": [
    "# Importing the libraies to prepare train and test datasets, linearregression model and mean squared error\n",
    "from sklearn.model_selection import train_test_split\n",
    "from sklearn.linear_model import LinearRegression\n",
    "from sklearn.metrics import mean_squared_error\n",
    "\n",
    "X_train, X_test, y_train, y_test = train_test_split(X, y, test_size=0.3, random_state=40)\n",
    "linear_reg = LinearRegression()\n",
    "\n",
    "# Fitting the training data in the linear regression model\n",
    "linear_reg.fit(X_train, y_train)\n",
    "\n",
    "#predicting the values\n",
    "y_pred = linear_reg.predict(X_test)"
   ]
  },
  {
   "cell_type": "code",
   "execution_count": 364,
   "id": "228a526f",
   "metadata": {},
   "outputs": [
    {
     "data": {
      "text/plain": [
       "2.36232525326917e+18"
      ]
     },
     "execution_count": 364,
     "metadata": {},
     "output_type": "execute_result"
    }
   ],
   "source": [
    "# calculting the model's performance\n",
    "mse = mean_squared_error(y_test, y_pred)\n",
    "mse"
   ]
  },
  {
   "cell_type": "code",
   "execution_count": 365,
   "id": "b36f8631",
   "metadata": {},
   "outputs": [
    {
     "data": {
      "text/plain": [
       "1.7255518387002576e+17"
      ]
     },
     "execution_count": 365,
     "metadata": {},
     "output_type": "execute_result"
    }
   ],
   "source": [
    "# Decicison Tree Regressor\n",
    "from sklearn.tree import DecisionTreeRegressor\n",
    "d_reg = DecisionTreeRegressor()\n",
    "d_reg.fit(X_train, y_train)\n",
    "y_pred = d_reg.predict(X_test)\n",
    "mse = mean_squared_error(y_test, y_pred)\n",
    "mse"
   ]
  },
  {
   "cell_type": "code",
   "execution_count": 366,
   "id": "9b6dce8e",
   "metadata": {},
   "outputs": [
    {
     "data": {
      "text/plain": [
       "array([['Master’s degree', 'Remote', '4.0', 'Project manager', 'India',\n",
       "        'Favorable', '8.0']], dtype='<U32')"
      ]
     },
     "execution_count": 366,
     "metadata": {},
     "output_type": "execute_result"
    }
   ],
   "source": [
    "ND = np.array([['Master’s degree', 'Remote', 4.0,'Project manager',  'India',  'Favorable', 8.0]])\n",
    "ND"
   ]
  },
  {
   "cell_type": "code",
   "execution_count": 367,
   "id": "b73bc1ab",
   "metadata": {},
   "outputs": [],
   "source": [
    "ND[:, 0] = l_edlevel.transform(ND[:, 0])\n",
    "ND[:, 1] = l_remote.transform(ND[:, 1])\n",
    "ND[:, 3] = l_DevType.transform(ND[:, 3])\n",
    "ND[:, 4] = l_Country.transform(ND[:, 4])\n",
    "ND[:, 5] = l_AISent.transform(ND[:, 5])\n",
    "\n",
    "# Ensure the numeric features are correctly typed\n",
    "ND[:, 2] = ND[:, 2].astype(float)\n",
    "ND[:, 6] = ND[:, 6].astype(float)"
   ]
  },
  {
   "cell_type": "code",
   "execution_count": 368,
   "id": "d97072e2",
   "metadata": {},
   "outputs": [
    {
     "name": "stderr",
     "output_type": "stream",
     "text": [
      "C:\\Users\\jssso\\AppData\\Local\\Programs\\Python\\Python310\\lib\\site-packages\\sklearn\\base.py:464: UserWarning: X does not have valid feature names, but DecisionTreeRegressor was fitted with feature names\n",
      "  warnings.warn(\n"
     ]
    },
    {
     "data": {
      "text/plain": [
       "array([1800000.])"
      ]
     },
     "execution_count": 368,
     "metadata": {},
     "output_type": "execute_result"
    }
   ],
   "source": [
    "ND_pred = d_reg.predict(ND)\n",
    "ND_pred"
   ]
  },
  {
   "cell_type": "code",
   "execution_count": 374,
   "id": "31989d73",
   "metadata": {},
   "outputs": [],
   "source": [
    "# we need to save the model to be able to use it again\n",
    "import pickle\n",
    "data = {\"model\": d_reg, \"l_edlevel\":l_edlevel,\"l_remote\":l_remote,\"l_years\":l_years,\"l_DevType\":l_DevType, \"l_Country\":l_Country,\"l_AISent\":l_AISent}\n",
    "with open('saved_model.pkl', 'wb') as file:\n",
    "    pickle.dump(data, file)"
   ]
  },
  {
   "cell_type": "code",
   "execution_count": 375,
   "id": "4dedbf6c",
   "metadata": {},
   "outputs": [],
   "source": [
    "# Loading the model to be used again\n",
    "with open('saved_model.pkl', 'rb') as file:\n",
    "    data = pickle.load(file)\n",
    "\n",
    "    \n",
    "model_loaded = data['model']\n",
    "l_edlevel=data['l_edlevel']\n",
    "l_remote=data['l_remote']\n",
    "l_years=data['l_years']\n",
    "l_DevType=data['l_DevType']\n",
    "l_Country=data['l_Country']\n",
    "l_AISent=data['l_AISent']"
   ]
  },
  {
   "cell_type": "code",
   "execution_count": 371,
   "id": "6643af64",
   "metadata": {},
   "outputs": [
    {
     "data": {
      "text/plain": [
       "{'model': LinearRegression(),\n",
       " 'l_edlevel': LabelEncoder(),\n",
       " 'l_remote': LabelEncoder(),\n",
       " 'l_years': LabelEncoder(),\n",
       " 'l_DevType': LabelEncoder(),\n",
       " 'l_Country': LabelEncoder(),\n",
       " 'l_AISent': LabelEncoder()}"
      ]
     },
     "execution_count": 371,
     "metadata": {},
     "output_type": "execute_result"
    }
   ],
   "source": [
    "data"
   ]
  },
  {
   "cell_type": "code",
   "execution_count": null,
   "id": "9a412462",
   "metadata": {},
   "outputs": [],
   "source": []
  }
 ],
 "metadata": {
  "kernelspec": {
   "display_name": ".venv",
   "language": "python",
   "name": ".venv"
  },
  "language_info": {
   "codemirror_mode": {
    "name": "ipython",
    "version": 3
   },
   "file_extension": ".py",
   "mimetype": "text/x-python",
   "name": "python",
   "nbconvert_exporter": "python",
   "pygments_lexer": "ipython3",
   "version": "3.10.1"
  }
 },
 "nbformat": 4,
 "nbformat_minor": 5
}
